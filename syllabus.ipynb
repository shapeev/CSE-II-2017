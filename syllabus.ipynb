{
 "cells": [
  {
   "cell_type": "markdown",
   "metadata": {
    "slideshow": {
     "slide_type": "slide"
    }
   },
   "source": [
    "# Computational Science and Engineering-II (CSE-II) \n",
    "\n",
    "## Skoltech, Term 4, 2017"
   ]
  },
  {
   "cell_type": "markdown",
   "metadata": {
    "slideshow": {
     "slide_type": "slide"
    }
   },
   "source": [
    "## Time and Dates\n",
    "\n",
    "Where: 407\n",
    "\n",
    "When: <br/>\n",
    "Mon: 13:00-15:00, aud. 408 <br/>\n",
    "Tue, Thu: 10:00 - 12:00, aud. 407"
   ]
  },
  {
   "cell_type": "markdown",
   "metadata": {
    "slideshow": {
     "slide_type": "slide"
    }
   },
   "source": [
    "## Team\n",
    "\n",
    "* Alexander Shapeev, Assistant Professor\n",
    "* Evgenii Tsymbalov, TA\n"
   ]
  },
  {
   "cell_type": "markdown",
   "metadata": {
    "slideshow": {
     "slide_type": "slide"
    }
   },
   "source": [
    "## Course description\n",
    "\n",
    "Computational Science and Engineering II (CSE-II). Is the second in a sequence of three courses on CSE. The first course, CSE-I taught you how to develop models of phenomena. Most of the models are expressed in terms of *PDE*s (Partial differential equations). This course will discuss (the basics of) how to solve them on a computer. In Term 5, CSE-III will discuss how to solve them *real fast*.\n",
    "\n",
    "**Prerequisite**: Numerical Linear Algebra; Python/Matlab/equivalent (make sure we know your programming language of choice)\n",
    "\n",
    "**Postrequisite**: essentially all further CompMath track courses (CSE-III, Multiscale methods)"
   ]
  },
  {
   "cell_type": "markdown",
   "metadata": {
    "slideshow": {
     "slide_type": "slide"
    }
   },
   "source": [
    "## Learning outcomes\n",
    "\n",
    "- Formulate initial- and boundary-value problems for PDEs\n",
    "- Discretize PDEs with appropriate numerical methods\n",
    "- Write a simple code for a numerical method\n",
    "- Judge about the properties (e.g., accuracy, computational efficiency) of a numerical method\n",
    "    - theoretically, and\n",
    "    - based on actual computations"
   ]
  },
  {
   "cell_type": "markdown",
   "metadata": {
    "slideshow": {
     "slide_type": "slide"
    }
   },
   "source": [
    "## Course originally developed by:\n",
    "\n",
    "* Laurent Demanet, Jacob White (MIT), and\n",
    "* Ivan Oseledets (Skoltech)\n",
    "\n",
    "as a part of the FastPDE course\n"
   ]
  },
  {
   "cell_type": "markdown",
   "metadata": {
    "slideshow": {
     "slide_type": "slide"
    }
   },
   "source": [
    "## How do we grade\n",
    "\n",
    "- **40%** homework\n",
    "- **30%** 2 written tests\n",
    "- **30%** Application Period\n",
    "- **pass-fail** oral (ping-pong) test\n",
    "\n",
    "**Strict** deadlines."
   ]
  },
  {
   "cell_type": "markdown",
   "metadata": {
    "slideshow": {
     "slide_type": "slide"
    }
   },
   "source": [
    "## Technical details\n",
    "\n",
    "1. We will use [Python](http://www.python.org) and [IPython/Jupyter notebooks](http://nbviewer.ipython.org/github/ellisonbg/talk-2014-summer/blob/master/Jupyter%20and%20IPython.ipynb)\n",
    "for everything (lecture notes & homework assignments)\n",
    "* Highly recommended is [Anaconda Python Distribution](http://continuum.io/downloads)\n",
    "* See the Python [Crash Course](https://github.com/oseledets/nla2015/blob/master/lectures/Python_crash_course.ipynb) from Numerical Linear Algebra\n",
    "* Feel free to ask TAs for help"
   ]
  },
  {
   "cell_type": "markdown",
   "metadata": {
    "slideshow": {
     "slide_type": "slide"
    }
   },
   "source": [
    "## Preliminary Schedule\n",
    "- **Week 1:** Physical models & PDE, Finite Differences 1D/2D\n",
    "- **Week 2:** Finite Elements (basic elements, meshes, tools for meshing)\n",
    "- **Week 3:** Spectral methods\n",
    "- **Week 4:** Midterm Test\n",
    "- **Week 5,6:** Finite volumes, Hyperbolic problems, Simplectic integrators, other advanced topics\n",
    "- **Week 7:** Final exam, oral test, App period\n",
    "- **Week 8:** App period"
   ]
  },
  {
   "cell_type": "markdown",
   "metadata": {
    "slideshow": {
     "slide_type": "slide"
    }
   },
   "source": [
    "## Homework\n",
    "- 4 problem sets\n",
    "- Each Friday (starting from the **week 2**) will be the deadline\n",
    "\n",
    "## Tests\n",
    "- 2 written tests (**week 4** and **week 7**)\n",
    "- Oral test (ping-pong) (**week 7**)"
   ]
  },
  {
   "cell_type": "markdown",
   "metadata": {
    "slideshow": {
     "slide_type": "slide"
    }
   },
   "source": [
    "## Materials\n",
    "\n",
    "- Lecture notes\n",
    "- Bother me or TAs with questions\n",
    "- We will point out important books/papers when appropriate"
   ]
  },
  {
   "cell_type": "markdown",
   "metadata": {
    "slideshow": {
     "slide_type": "slide"
    }
   },
   "source": [
    "## Starting\n",
    "Now let us start the [First lecture](Lecture-1.ipynb)\n"
   ]
  }
 ],
 "metadata": {
  "celltoolbar": "Slideshow",
  "kernelspec": {
   "display_name": "Python 2",
   "language": "python",
   "name": "python2"
  },
  "language_info": {
   "codemirror_mode": {
    "name": "ipython",
    "version": 2
   },
   "file_extension": ".py",
   "mimetype": "text/x-python",
   "name": "python",
   "nbconvert_exporter": "python",
   "pygments_lexer": "ipython2",
   "version": "2.7.11"
  }
 },
 "nbformat": 4,
 "nbformat_minor": 0
}
