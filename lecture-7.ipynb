{
 "cells": [
  {
   "cell_type": "markdown",
   "metadata": {
    "slideshow": {
     "slide_type": "slide"
    }
   },
   "source": [
    "# Lecture 7: Time Integration"
   ]
  },
  {
   "cell_type": "markdown",
   "metadata": {
    "slideshow": {
     "slide_type": "slide"
    }
   },
   "source": [
    "## To be learned:\n",
    "\n",
    "* Stability\n",
    "* Hamiltonian systems\n",
    "\n",
    "### What you should already know:\n",
    "* [Euler's method](https://en.wikipedia.org/wiki/Euler_method), [Backward Euler's method](https://en.wikipedia.org/wiki/Euler_method#Modifications_and_extensions), [Predictor-corrector method](https://en.wikipedia.org/wiki/Predictor-corrector_method), [Runge-Kutta's method](https://en.wikipedia.org/wiki/Runge-Kutta_methods)"
   ]
  },
  {
   "cell_type": "markdown",
   "metadata": {
    "slideshow": {
     "slide_type": "slide"
    }
   },
   "source": [
    "## Part 1: Stability\n",
    "\n",
    "Suppose we are solving\n",
    "$$\n",
    "\\begin{align*}\n",
    "u'(t) &= f(u(t)),\\\\\n",
    "u(0) &= u _0\n",
    "\\end{align*}\n",
    "$$\n",
    "with the Euler's method:\n",
    "$$\n",
    "\\frac{u(t+\\tau) - u(t)}{\\tau} = f(u(t)),\n",
    "$$\n",
    "$u\\in \\mathbb R^n$ --- the vector of $n$ unknowns.\n",
    "\n",
    "Suppose $u^*$ is the stationary point of the equations: $f(u^*) = 0$. Then, to study stability, we linearize: $f(u) \\approx f(u^*) + f'(u^*) (u-u^*)$.\n",
    "Then denoting $A = f'(u^*)$ and making the change of variables $u\\mapsto u+u^*$, we arrive to the system of linear differential equations:\n",
    "$$\n",
    "u'(t) = A u(t)\n",
    "$$\n",
    "We can furthermore assume, by changing the basis of $\\mathbb R^n$ (i.e., the linear change of variables) that $A = {\\rm diag}(\\lambda _1, \\ldots, \\lambda _n).$ Then the system of equations reads\n",
    "$$\n",
    "u _i'(t) = \\lambda _i u _i(t)\n",
    "$$\n",
    "\n",
    "The trouble-makers are those $u_i$ for which $\\lambda _i$ is negative (more precisely, ${\\rm Re}(\\lambda _i)$ is negative) and $|\\lambda _i|$ is large.\n",
    "Let us consider such equation, dropping the subscript $i$:\n",
    "$$\n",
    "u'(t) = \\lambda u(t)\n",
    "$$\n",
    "and the corresponding scheme:\n",
    "$$\n",
    "\\frac{u(t+\\tau) - u(t)}{\\tau} = \\lambda u(t).\n",
    "$$\n",
    "We require that the approximate solution $u \\to 0$ as $t\\to\\infty$, which reduces to the condition that $\\tau |\\lambda| < 2$. This may be too bad if there are large $\\lambda$s (note that we have to have the same timestep $\\tau$ for the entire system with the whole range of $\\lambda$s)."
   ]
  },
  {
   "cell_type": "markdown",
   "metadata": {
    "slideshow": {
     "slide_type": "slide"
    }
   },
   "source": [
    "### An idea (Chebyshev methods):\n",
    "* Consider a two-step explicit scheme:\n",
    "$$\n",
    "\\begin{align*}\n",
    "\\frac{\\tilde{u} - u(t)}{\\alpha \\tau} &= f(u(t)),\\\\\n",
    "\\frac{u(t+\\tau) - \\tilde{u}}{(1-\\alpha) \\tau} &= f(\\tilde{u}),\n",
    "\\end{align*}\n",
    "$$\n",
    "(you can think that $\\tilde{u}=u(t+\\alpha \\tau)$).\n",
    "\n",
    "If you write the corresponding linear system, it will be\n",
    "$$\n",
    "u(t+\\tau) = (1-\\alpha \\tau \\lambda) (1 - (1-\\alpha) \\tau \\lambda) u(\\tau)\n",
    "$$\n",
    "and the stability condition is hence\n",
    "$$\n",
    "p(\\alpha) := (1-\\alpha \\tau \\lambda) (1-(1-\\alpha) \\tau \\lambda) ~~~~ \\in [-1,1]\n",
    "$$\n",
    "* $p(\\alpha)$ is the 2nd-degree polynomial with $p(\\alpha)=1$.\n",
    "* It turns out that the optimal polynomial is such that $\\alpha$ are related to the roots of [Chebyshev polynomials](https://en.wikipedia.org/wiki/Chebyshev_polynomials).\n",
    "* In our case the optimal is $\\alpha=(2-\\sqrt{2})/4.$\n",
    "* Stability is then $\\tau |\\lambda| \\leq 8$ (compare to $\\tau |\\lambda| \\leq 2$ earlier)"
   ]
  },
  {
   "cell_type": "markdown",
   "metadata": {
    "slideshow": {
     "slide_type": "slide"
    }
   },
   "source": [
    "### Remarks:\n",
    "\n",
    "* Multistep explicit methods can vastly improve stability (compared to 1- and 2-step methods considered above)\n",
    "\n",
    "* In general, the stability is characterized by the region of good $\\lambda$s on the complex plane (more precisely, the left half-plane).\n",
    "\n",
    "### References:\n",
    "* More about stablity [here](https://en.wikipedia.org/wiki/Stiff_equation)\n",
    "* A good [paper](http://infoscience.epfl.ch/record/148967/files/fourth_order.pdf) to read about Chebyshev method"
   ]
  },
  {
   "cell_type": "markdown",
   "metadata": {
    "slideshow": {
     "slide_type": "slide"
    }
   },
   "source": [
    "## Part 2: Hamiltonian systems"
   ]
  },
  {
   "cell_type": "markdown",
   "metadata": {
    "slideshow": {
     "slide_type": "slide"
    }
   },
   "source": [
    "Mechanical system: $q = q_1,...,q_N$ are the coordinates of elements of the system (e.g., particles). The system has the potential energy $E(q_1, ..., q_N)$.\n",
    "\n",
    "So, Newton's equations:\n",
    "$$\n",
    "m_i \\ddot{q} _i = -\\frac{\\partial}{\\partial q_i} E(q)\n",
    "$$\n",
    "\n",
    "Equivalently: Define the Hamiltonian (=total energy of the system) $H(q,p) := E(q) + \\sum_i \\frac{p_i^2}{2 m}$, where $p_i$ is the momentum of the $i$-th particle. And hence write down the Hamiltonian equations:\n",
    "$$\n",
    "\\begin{align*}\n",
    "\\dot{p} _i &= -\\frac{\\partial H}{\\partial q_i} \\\\\n",
    "\\dot{q} _i &= \\frac{\\partial H}{\\partial p_i}\n",
    "\\end{align*}\n",
    "$$"
   ]
  },
  {
   "cell_type": "markdown",
   "metadata": {
    "slideshow": {
     "slide_type": "slide"
    }
   },
   "source": [
    "**Exercise** Prove that\n",
    "$$\n",
    "\\dot{H} := \\frac{d}{dt} H(q(t), p(t))\n",
    "$$\n",
    "is identically zero."
   ]
  },
  {
   "cell_type": "markdown",
   "metadata": {
    "slideshow": {
     "slide_type": "slide"
    }
   },
   "source": [
    "### Explicit scheme: no energy conservation:"
   ]
  },
  {
   "cell_type": "code",
   "execution_count": 6,
   "metadata": {
    "collapsed": false
   },
   "outputs": [],
   "source": [
    "import numpy as np\n",
    "import matplotlib.pyplot as plt\n",
    "import matplotlib.animation as animation\n",
    "\n",
    "q = np.array([[-0.5, 0.0], [0.5, 0.0]])\n",
    "p = np.array([[0.0, -1.0], [0.0, 1.0]])\n",
    "hist = [q];\n",
    "dt = 0.1\n",
    "N_iter_between_frames = 2\n",
    "N_frames = 1000\n",
    "for i in xrange(0, N_frames*N_iter_between_frames+1):\n",
    "    force = (q[0,:]-q[1,:])/np.dot(q[0,:]-q[1,:],q[0,:]-q[1,:])\n",
    "    q = q + dt*p \n",
    "    p[0,:] = p[0,:] - dt*force\n",
    "    p[1,:] = p[1,:] + dt*force\n",
    "    if(np.mod(i,N_iter_between_frames)==0):\n",
    "        hist.append(q)\n",
    "        \n",
    "fig, ax = plt.subplots()\n",
    "\n",
    "line, = ax.plot(np.transpose(q[:,0]),np.transpose(q[:,1]),'o')\n",
    "\n",
    "def animate(i):\n",
    "    line.set_xdata(np.transpose(hist[i][:,0]))\n",
    "    line.set_ydata(np.transpose(hist[i][:,1]))\n",
    "    return line,\n",
    "\n",
    "def init():\n",
    "    line.set_xdata(np.transpose(hist[0][:,0]))\n",
    "    line.set_ydata(np.transpose(hist[0][:,1]))\n",
    "    return line,\n",
    "\n",
    "ani = animation.FuncAnimation(fig, animate, N_frames, init_func=init,\n",
    "    interval=25,blit=False)\n",
    "plt.axis([-2,2,-2,2])\n",
    "plt.show()"
   ]
  },
  {
   "cell_type": "markdown",
   "metadata": {
    "slideshow": {
     "slide_type": "slide"
    }
   },
   "source": [
    "### Simplectic (velocity Verlet): energy conservation\n",
    "\n",
    "For simplicity assume all $m_i = 1$:\n",
    "$$\n",
    "\\begin{align*}\n",
    "q(t+\\tau/2) &= q(t) + {\\textstyle \\frac{\\tau}{2}} p(t), \\\\\n",
    "p(t+\\tau) &= p(t) - \\tau \\nabla E(q(t+\\tau/2)), \\\\\n",
    "q(t+\\tau) &= q(t+\\tau/2) + {\\textstyle \\frac{\\tau}{2}} p(t+\\tau), \\\\\n",
    "\\end{align*}\n",
    "$$\n",
    "\n",
    "* (Can also be interepreted as a time-splitting method)\n",
    "* Explicit!\n",
    "* Time reversible!! (I.e., operation $t \\mapsto -t$, $p \\mapsto -p$ leaves the discrete scheme invariant)"
   ]
  },
  {
   "cell_type": "code",
   "execution_count": 7,
   "metadata": {
    "collapsed": false
   },
   "outputs": [],
   "source": [
    "import numpy as np\n",
    "import matplotlib.pyplot as plt\n",
    "import matplotlib.animation as animation\n",
    "\n",
    "q = np.array([[-0.5, 0.0], [0.5, 0.0]])\n",
    "p = np.array([[0.0, -1.0], [0.0, 1.0]])\n",
    "hist = [q];\n",
    "dt = 0.1\n",
    "N_iter_between_frames = 2\n",
    "N_frames = 1000\n",
    "for i in xrange(0, N_frames*N_iter_between_frames+1):\n",
    "    q = q + 0.5*dt*p \n",
    "    force = (q[0,:]-q[1,:])/np.dot(q[0,:]-q[1,:],q[0,:]-q[1,:])\n",
    "    p[0,:] = p[0,:] - dt*force\n",
    "    p[1,:] = p[1,:] + dt*force\n",
    "    q = q + 0.5*dt*p\n",
    "    if(np.mod(i,N_iter_between_frames)==0):\n",
    "        hist.append(q)\n",
    "        \n",
    "fig, ax = plt.subplots()\n",
    "\n",
    "line, = ax.plot(np.transpose(q[:,0]),np.transpose(q[:,1]),'o')\n",
    "\n",
    "def animate(i):\n",
    "    line.set_xdata(np.transpose(hist[i][:,0]))\n",
    "    line.set_ydata(np.transpose(hist[i][:,1]))\n",
    "    return line,\n",
    "\n",
    "def init():\n",
    "    line.set_xdata(np.transpose(hist[0][:,0]))\n",
    "    line.set_ydata(np.transpose(hist[0][:,1]))\n",
    "    return line,\n",
    "\n",
    "ani = animation.FuncAnimation(fig, animate, N_frames, init_func=init,\n",
    "    interval=25,blit=False)\n",
    "plt.axis([-2,2,-2,2])\n",
    "plt.show()"
   ]
  },
  {
   "cell_type": "markdown",
   "metadata": {
    "slideshow": {
     "slide_type": "slide"
    }
   },
   "source": [
    "### Approximate Energy conservation\n",
    "\n",
    "[Mathematica computations](Simplectic.nb)"
   ]
  }
 ],
 "metadata": {
  "celltoolbar": "Slideshow",
  "kernelspec": {
   "display_name": "Python 2",
   "language": "python",
   "name": "python2"
  },
  "language_info": {
   "codemirror_mode": {
    "name": "ipython",
    "version": 2
   },
   "file_extension": ".py",
   "mimetype": "text/x-python",
   "name": "python",
   "nbconvert_exporter": "python",
   "pygments_lexer": "ipython2",
   "version": "2.7.11"
  }
 },
 "nbformat": 4,
 "nbformat_minor": 0
}
