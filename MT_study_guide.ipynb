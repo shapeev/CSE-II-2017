{
 "cells": [
  {
   "cell_type": "markdown",
   "metadata": {},
   "source": [
    "# CSE-II, Skoltech, Term 4, 2017"
   ]
  },
  {
   "cell_type": "markdown",
   "metadata": {},
   "source": [
    "## Midterm study guide\n",
    "\n",
    "For the midterm you should be able to:\n",
    "\n",
    "1. Finite differences (FD)\n",
    "    - write down basic FD approximations to differential operators, equations, and boundary/initial conditions\n",
    "    - determine the order of approximation (and prove)\n",
    "    - judge whether an initial-value problem is stable (or for what parameters it is stable)\n",
    "    - understand how to implement FD on a computer\n",
    "2. Finite elements (FE)\n",
    "    - fomulate a (boundary-value problem for a) PDE in a weak form\n",
    "    - formulate a FE problem, finite element space (piecewise linear functions)\n",
    "    - write down the stiffness matrix in simple cases\n",
    "    - understand how to implement FE on a computer\n",
    "3. Spectral methods (SM)\n",
    "    - formulate a spectral method for a given PDE\n",
    "    - write down the stiffness matrix (i.e., the left-hand side matrix) in simple cases\n",
    "    - understand how to implement SM on a computer"
   ]
  }
 ],
 "metadata": {
  "kernelspec": {
   "display_name": "Python 2",
   "language": "python",
   "name": "python2"
  },
  "language_info": {
   "codemirror_mode": {
    "name": "ipython",
    "version": 2
   },
   "file_extension": ".py",
   "mimetype": "text/x-python",
   "name": "python",
   "nbconvert_exporter": "python",
   "pygments_lexer": "ipython2",
   "version": "2.7.11"
  }
 },
 "nbformat": 4,
 "nbformat_minor": 0
}
