{
 "cells": [
  {
   "cell_type": "markdown",
   "metadata": {},
   "source": [
    "# CSE-II"
   ]
  },
  {
   "cell_type": "markdown",
   "metadata": {},
   "source": [
    "**Course instructors: **\n",
    "Alexander Shapeev\n",
    "\n",
    "** TAs:**\n",
    "Evgenii Tsymbalov"
   ]
  },
  {
   "cell_type": "markdown",
   "metadata": {},
   "source": [
    "[Course syllabus](syllabus.ipynb)\n",
    "\n",
    "Python [Crash Course](https://github.com/oseledets/nla2015/blob/master/lectures/Python_crash_course.ipynb)\n",
    "\n",
    "\n",
    "| Week | Monday | Tuesday | Thursday | Saturday 6am |\n",
    "|---|---|---|---|---|\n",
    "|1| &nbsp; | [Lecture 1](lecture-1.ipynb)| [Lecture 2](lecture-2.ipynb) <br> [Problem Set 1](PS1.ipynb) <br> [Lecture 3](lecture-3.ipynb) | &nbsp; |\n",
    "|2| [Lecture 4](lecture-4.ipynb) <br> [Lecture 5](lecture-5.ipynb) | &nbsp; <br> [Problem Set 2](PS2.ipynb) | [Lecture 6](lecture-6.ipynb) | &nbsp; |\n",
    "|3| **Problem Set 1 due** | &nbsp; <br> Problem Set 3 | &nbsp; | **Problem Set 2 due** |\n",
    "|4| [Midterm study guide](MT_study_guide.ipynb) | &nbsp; | &nbsp; | **Problem Set 3 due** |\n",
    "|5| &nbsp; | &nbsp;                    | &nbsp; | &nbsp; |\n",
    "|6| holiday | holiday | &nbsp; | &nbsp; |\n",
    "|7| Recap | Exam | App period | &nbsp; |\n",
    "|8| App Period | App Period | App Period | &nbsp; |\n",
    "\n"
   ]
  },
  {
   "cell_type": "code",
   "execution_count": null,
   "metadata": {
    "collapsed": true
   },
   "outputs": [],
   "source": []
  }
 ],
 "metadata": {
  "kernelspec": {
   "display_name": "Python 2",
   "language": "python",
   "name": "python2"
  },
  "language_info": {
   "codemirror_mode": {
    "name": "ipython",
    "version": 2
   },
   "file_extension": ".py",
   "mimetype": "text/x-python",
   "name": "python",
   "nbconvert_exporter": "python",
   "pygments_lexer": "ipython2",
   "version": "2.7.11"
  }
 },
 "nbformat": 4,
 "nbformat_minor": 0
}
