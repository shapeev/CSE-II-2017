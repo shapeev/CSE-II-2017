{
 "cells": [
  {
   "cell_type": "markdown",
   "metadata": {},
   "source": [
    "# CSE-II"
   ]
  },
  {
   "cell_type": "markdown",
   "metadata": {},
   "source": [
    "**Course instructors: **\n",
    "Alexander Shapeev\n",
    "\n",
    "** TAs:**\n",
    "Evgenii Tsymbalov"
   ]
  },
  {
   "cell_type": "markdown",
   "metadata": {},
   "source": [
    "[Course syllabus](syllabus.ipynb)\n",
    "\n",
    "Python [Crash Course](https://github.com/oseledets/nla2015/blob/master/lectures/Python_crash_course.ipynb)\n",
    "\n",
    "\n",
    "| Week | Monday | Tuesday | Thursday | Saturday 6am |\n",
    "|---|---|---|---|---|\n",
    "|1| [Lecture 1](lecture-1.ipynb) | Lecture 2 <br> Problem Set 1 | Seminar 1 | &nbsp; |\n",
    "|2| &nbsp; | &nbsp; <br> Problem Set 2 | &nbsp; | **Problem Set 1 due** |\n",
    "|3| &nbsp; | &nbsp; <br> Problem Set 3 | &nbsp; | **Problem Set 2 due** |\n",
    "|4| &nbsp; | &nbsp; <br> Problem Set 4 | &nbsp; | **Problem Set 3 due** |\n",
    "|5| &nbsp; | &nbsp;                    | &nbsp; | **Problem Set 4 due** |\n",
    "|6| holiday | holiday | &nbsp; | &nbsp; |\n",
    "|7| Recap | Exam | App period | &nbsp; |\n",
    "|8| App Period | App Period | App Period | &nbsp; |\n",
    "\n"
   ]
  },
  {
   "cell_type": "code",
   "execution_count": null,
   "metadata": {
    "collapsed": true
   },
   "outputs": [],
   "source": []
  }
 ],
 "metadata": {
  "kernelspec": {
   "display_name": "Python 2",
   "language": "python",
   "name": "python2"
  },
  "language_info": {
   "codemirror_mode": {
    "name": "ipython",
    "version": 2
   },
   "file_extension": ".py",
   "mimetype": "text/x-python",
   "name": "python",
   "nbconvert_exporter": "python",
   "pygments_lexer": "ipython2",
   "version": "2.7.11"
  }
 },
 "nbformat": 4,
 "nbformat_minor": 0
}
