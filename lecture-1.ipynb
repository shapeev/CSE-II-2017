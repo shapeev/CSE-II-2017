{
 "cells": [
  {
   "cell_type": "markdown",
   "metadata": {
    "slideshow": {
     "slide_type": "slide"
    }
   },
   "source": [
    "# Motivation"
   ]
  },
  {
   "cell_type": "markdown",
   "metadata": {
    "slideshow": {
     "slide_type": "slide"
    }
   },
   "source": [
    "## Why computer modelling? \n",
    "Because it is **cheaper** than real-life experiment, or in the case when real-life experiment **is not possible**."
   ]
  },
  {
   "cell_type": "markdown",
   "metadata": {
    "slideshow": {
     "slide_type": "slide"
    }
   },
   "source": [
    "## Typical steps of computer modelling\n",
    "\n",
    "1. Write down **equations**\n",
    "\n",
    "2. **Discretize**: Replace the continious problem by a discrete problem\n",
    "    * Discretize unknowns\n",
    "    * Discretize equations\n",
    "\n",
    "3. **Solve** the resulting discrete problem\n"
   ]
  },
  {
   "cell_type": "markdown",
   "metadata": {
    "slideshow": {
     "slide_type": "slide"
    }
   },
   "source": [
    "## Equations:\n",
    "\n",
    "What kind of equations are used?\n",
    "\n",
    "* Differential equations\n",
    "\n",
    "* ?\n",
    "\n",
    "* ?\n"
   ]
  },
  {
   "cell_type": "markdown",
   "metadata": {
    "slideshow": {
     "slide_type": "slide"
    }
   },
   "source": [
    "## Discretization\n",
    "The discretization is the replacement of the region by discrete elements:\n",
    "<img src=\"pic/airplane2.jpeg\" style=\"width: 700px;\" >"
   ]
  },
  {
   "cell_type": "markdown",
   "metadata": {
    "slideshow": {
     "slide_type": "slide"
    }
   },
   "source": [
    "## Random notes\n",
    "- Discretization and solve can be connected\n",
    "- We'll use standard solvers. In Term 5, the CSE-III course will discuss efficient solvers\n",
    "- Only a subproblem in **design and optimization**\n",
    "- Many physical problems are still too complex for math (turbulence, quantum mechanics)"
   ]
  },
  {
   "cell_type": "markdown",
   "metadata": {
    "slideshow": {
     "slide_type": "slide"
    }
   },
   "source": [
    "Many **process in physics** are modelled as PDEs.\n",
    "\n",
    "- Diffusion processes (heat transfer), electrostatics (circuit design) Poisson equation \n",
    "- Sound propagation (noise on the streets, buildings) -- Helmholtz\n",
    "equation \n",
    "- Electromagnetics -- fMRI (functional magnetic resonance imaging) -\n",
    "Maxwell equations \n",
    "- Fluid flows -- Euler / Navier Stokes/ Stokes / equations "
   ]
  },
  {
   "cell_type": "markdown",
   "metadata": {
    "slideshow": {
     "slide_type": "slide"
    }
   },
   "source": [
    "Some are modelled with ODEs:\n",
    "\n",
    "- Molecular dynamics -- Newton equations\n",
    "\n",
    "Some are algebraic equations:\n",
    "\n",
    "- Molecular statics: protein confirmations -- potential energy minimization"
   ]
  },
  {
   "cell_type": "markdown",
   "metadata": {
    "slideshow": {
     "slide_type": "slide"
    }
   },
   "source": [
    "PDEs (ODEs) appear in:\n",
    "- Financial math (Black Scholes equation) \n",
    "- Chemical engineering (Smoluchowsky equation)\n",
    "- Nanoworld (Schrodinger equation) \n",
    "- Biology (populations dynamics equations)"
   ]
  },
  {
   "cell_type": "markdown",
   "metadata": {
    "slideshow": {
     "slide_type": "slide"
    }
   },
   "source": [
    "## What we plan to cover:\n",
    "- **Equations** and **discretization**\n",
    "\n",
    "- Start thinking about the App Period projects **now** "
   ]
  },
  {
   "cell_type": "markdown",
   "metadata": {
    "slideshow": {
     "slide_type": "slide"
    }
   },
   "source": [
    "## Software packages\n",
    "\n",
    "Unless you need something very special, you'd not implement numerical methods from scratch. There are free and commercial packages for you.\n",
    "\n",
    "* Most are based on FEM\n",
    "* Fluid (=liquid and gases) mechanics is often FVM\n",
    "\n",
    "An example of commercial package is [Abaqus](https://en.wikipedia.org/wiki/Abaqus)"
   ]
  },
  {
   "cell_type": "markdown",
   "metadata": {
    "slideshow": {
     "slide_type": "slide"
    }
   },
   "source": [
    "**Free FEM software packages**\n",
    "\n",
    "- [FEniCS project](http://fenicsproject.org/) - beautiful finite element package, superhard to install \n",
    "- [FiPy](http://www.ctcms.nist.gov/fipy/) - Finite volume solver\n",
    "- [deal.II](https://www.dealii.org/) - FEM solver, C++ (with some Python interface)\n",
    "- [DUNE](http://dune.mathematik.uni-freiburg.de/) - FEM solver"
   ]
  },
  {
   "cell_type": "markdown",
   "metadata": {
    "slideshow": {
     "slide_type": "slide"
    }
   },
   "source": [
    "**Word of wisdom**\n",
    "\n",
    "- Packages sometimes do not give you the right answer (e.g., smear out small details just to be safe)\n",
    "- You should understand what you are doing (as much as you can)\n",
    "- Some principles of numerical analysis are universal -- they may help even you do not completely understand what you are doing."
   ]
  },
  {
   "cell_type": "markdown",
   "metadata": {
    "slideshow": {
     "slide_type": "slide"
    }
   },
   "source": [
    "**Mathematica demo**\n",
    "\n",
    "[demo](Math-DE-demo.nb)\n",
    "\n",
    "[further materials](https://www.wolfram.com/mathematica/new-in-10/pdes-and-finite-elements/)"
   ]
  }
 ],
 "metadata": {
  "celltoolbar": "Slideshow",
  "kernelspec": {
   "display_name": "Python 2",
   "language": "python",
   "name": "python2"
  },
  "language_info": {
   "codemirror_mode": {
    "name": "ipython",
    "version": 2
   },
   "file_extension": ".py",
   "mimetype": "text/x-python",
   "name": "python",
   "nbconvert_exporter": "python",
   "pygments_lexer": "ipython2",
   "version": "2.7.11"
  }
 },
 "nbformat": 4,
 "nbformat_minor": 0
}
